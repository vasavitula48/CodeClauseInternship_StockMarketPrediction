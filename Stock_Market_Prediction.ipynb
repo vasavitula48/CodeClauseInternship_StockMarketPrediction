{
  "nbformat": 4,
  "nbformat_minor": 0,
  "metadata": {
    "colab": {
      "provenance": [],
      "gpuType": "T4"
    },
    "kernelspec": {
      "name": "python3",
      "display_name": "Python 3"
    },
    "language_info": {
      "name": "python"
    },
    "accelerator": "GPU"
  },
  "cells": [
    {
      "cell_type": "markdown",
      "source": [
        "IMPORT THE LIBRARIES"
      ],
      "metadata": {
        "id": "z7FAY4LxwWnb"
      }
    },
    {
      "cell_type": "code",
      "source": [
        "from google.colab import drive\n",
        "drive.mount('/content/drive')"
      ],
      "metadata": {
        "id": "U7MyHMljet_w"
      },
      "execution_count": null,
      "outputs": []
    },
    {
      "cell_type": "code",
      "source": [
        "import os\n",
        "import numpy as np\n",
        "import pandas as pd\n",
        "import matplotlib.pyplot as plt\n",
        "%matplotlib inline"
      ],
      "metadata": {
        "id": "5gi4QE5Tqb99"
      },
      "execution_count": null,
      "outputs": []
    },
    {
      "cell_type": "markdown",
      "source": [
        "Load the Training Dataset"
      ],
      "metadata": {
        "id": "luAsvxS2wdmD"
      }
    },
    {
      "cell_type": "code",
      "source": [
        "dataset_train=pd.read_csv(\"/content/Google_Stock_Test (2023).csv\")\n",
        "dataset_train.head()"
      ],
      "metadata": {
        "colab": {
          "base_uri": "https://localhost:8080/",
          "height": 206
        },
        "id": "gfVljVD7tCP1",
        "outputId": "17250deb-de71-4391-919a-c7aa654b6322"
      },
      "execution_count": null,
      "outputs": [
        {
          "output_type": "execute_result",
          "data": {
            "text/plain": [
              "         Date       Open       High        Low      Close  Adj Close    Volume\n",
              "0  2023-01-03  89.589996  91.050003  88.519997  89.120003  89.120003  28131200\n",
              "1  2023-01-04  90.349998  90.650002  87.269997  88.080002  88.080002  34854800\n",
              "2  2023-01-05  87.470001  87.570000  85.900002  86.199997  86.199997  27194400\n",
              "3  2023-01-06  86.790001  87.690002  84.860001  87.339996  87.339996  41381500\n",
              "4  2023-01-09  88.360001  90.050003  87.860001  88.019997  88.019997  29003900"
            ],
            "text/html": [
              "\n",
              "\n",
              "  <div id=\"df-440e2c84-e038-42b8-8b5a-cc0aef946752\">\n",
              "    <div class=\"colab-df-container\">\n",
              "      <div>\n",
              "<style scoped>\n",
              "    .dataframe tbody tr th:only-of-type {\n",
              "        vertical-align: middle;\n",
              "    }\n",
              "\n",
              "    .dataframe tbody tr th {\n",
              "        vertical-align: top;\n",
              "    }\n",
              "\n",
              "    .dataframe thead th {\n",
              "        text-align: right;\n",
              "    }\n",
              "</style>\n",
              "<table border=\"1\" class=\"dataframe\">\n",
              "  <thead>\n",
              "    <tr style=\"text-align: right;\">\n",
              "      <th></th>\n",
              "      <th>Date</th>\n",
              "      <th>Open</th>\n",
              "      <th>High</th>\n",
              "      <th>Low</th>\n",
              "      <th>Close</th>\n",
              "      <th>Adj Close</th>\n",
              "      <th>Volume</th>\n",
              "    </tr>\n",
              "  </thead>\n",
              "  <tbody>\n",
              "    <tr>\n",
              "      <th>0</th>\n",
              "      <td>2023-01-03</td>\n",
              "      <td>89.589996</td>\n",
              "      <td>91.050003</td>\n",
              "      <td>88.519997</td>\n",
              "      <td>89.120003</td>\n",
              "      <td>89.120003</td>\n",
              "      <td>28131200</td>\n",
              "    </tr>\n",
              "    <tr>\n",
              "      <th>1</th>\n",
              "      <td>2023-01-04</td>\n",
              "      <td>90.349998</td>\n",
              "      <td>90.650002</td>\n",
              "      <td>87.269997</td>\n",
              "      <td>88.080002</td>\n",
              "      <td>88.080002</td>\n",
              "      <td>34854800</td>\n",
              "    </tr>\n",
              "    <tr>\n",
              "      <th>2</th>\n",
              "      <td>2023-01-05</td>\n",
              "      <td>87.470001</td>\n",
              "      <td>87.570000</td>\n",
              "      <td>85.900002</td>\n",
              "      <td>86.199997</td>\n",
              "      <td>86.199997</td>\n",
              "      <td>27194400</td>\n",
              "    </tr>\n",
              "    <tr>\n",
              "      <th>3</th>\n",
              "      <td>2023-01-06</td>\n",
              "      <td>86.790001</td>\n",
              "      <td>87.690002</td>\n",
              "      <td>84.860001</td>\n",
              "      <td>87.339996</td>\n",
              "      <td>87.339996</td>\n",
              "      <td>41381500</td>\n",
              "    </tr>\n",
              "    <tr>\n",
              "      <th>4</th>\n",
              "      <td>2023-01-09</td>\n",
              "      <td>88.360001</td>\n",
              "      <td>90.050003</td>\n",
              "      <td>87.860001</td>\n",
              "      <td>88.019997</td>\n",
              "      <td>88.019997</td>\n",
              "      <td>29003900</td>\n",
              "    </tr>\n",
              "  </tbody>\n",
              "</table>\n",
              "</div>\n",
              "      <button class=\"colab-df-convert\" onclick=\"convertToInteractive('df-440e2c84-e038-42b8-8b5a-cc0aef946752')\"\n",
              "              title=\"Convert this dataframe to an interactive table.\"\n",
              "              style=\"display:none;\">\n",
              "\n",
              "  <svg xmlns=\"http://www.w3.org/2000/svg\" height=\"24px\"viewBox=\"0 0 24 24\"\n",
              "       width=\"24px\">\n",
              "    <path d=\"M0 0h24v24H0V0z\" fill=\"none\"/>\n",
              "    <path d=\"M18.56 5.44l.94 2.06.94-2.06 2.06-.94-2.06-.94-.94-2.06-.94 2.06-2.06.94zm-11 1L8.5 8.5l.94-2.06 2.06-.94-2.06-.94L8.5 2.5l-.94 2.06-2.06.94zm10 10l.94 2.06.94-2.06 2.06-.94-2.06-.94-.94-2.06-.94 2.06-2.06.94z\"/><path d=\"M17.41 7.96l-1.37-1.37c-.4-.4-.92-.59-1.43-.59-.52 0-1.04.2-1.43.59L10.3 9.45l-7.72 7.72c-.78.78-.78 2.05 0 2.83L4 21.41c.39.39.9.59 1.41.59.51 0 1.02-.2 1.41-.59l7.78-7.78 2.81-2.81c.8-.78.8-2.07 0-2.86zM5.41 20L4 18.59l7.72-7.72 1.47 1.35L5.41 20z\"/>\n",
              "  </svg>\n",
              "      </button>\n",
              "\n",
              "\n",
              "\n",
              "    <div id=\"df-05204f5f-8d71-4c23-9cde-31f14901b125\">\n",
              "      <button class=\"colab-df-quickchart\" onclick=\"quickchart('df-05204f5f-8d71-4c23-9cde-31f14901b125')\"\n",
              "              title=\"Suggest charts.\"\n",
              "              style=\"display:none;\">\n",
              "\n",
              "<svg xmlns=\"http://www.w3.org/2000/svg\" height=\"24px\"viewBox=\"0 0 24 24\"\n",
              "     width=\"24px\">\n",
              "    <g>\n",
              "        <path d=\"M19 3H5c-1.1 0-2 .9-2 2v14c0 1.1.9 2 2 2h14c1.1 0 2-.9 2-2V5c0-1.1-.9-2-2-2zM9 17H7v-7h2v7zm4 0h-2V7h2v10zm4 0h-2v-4h2v4z\"/>\n",
              "    </g>\n",
              "</svg>\n",
              "      </button>\n",
              "    </div>\n",
              "\n",
              "<style>\n",
              "  .colab-df-quickchart {\n",
              "    background-color: #E8F0FE;\n",
              "    border: none;\n",
              "    border-radius: 50%;\n",
              "    cursor: pointer;\n",
              "    display: none;\n",
              "    fill: #1967D2;\n",
              "    height: 32px;\n",
              "    padding: 0 0 0 0;\n",
              "    width: 32px;\n",
              "  }\n",
              "\n",
              "  .colab-df-quickchart:hover {\n",
              "    background-color: #E2EBFA;\n",
              "    box-shadow: 0px 1px 2px rgba(60, 64, 67, 0.3), 0px 1px 3px 1px rgba(60, 64, 67, 0.15);\n",
              "    fill: #174EA6;\n",
              "  }\n",
              "\n",
              "  [theme=dark] .colab-df-quickchart {\n",
              "    background-color: #3B4455;\n",
              "    fill: #D2E3FC;\n",
              "  }\n",
              "\n",
              "  [theme=dark] .colab-df-quickchart:hover {\n",
              "    background-color: #434B5C;\n",
              "    box-shadow: 0px 1px 3px 1px rgba(0, 0, 0, 0.15);\n",
              "    filter: drop-shadow(0px 1px 2px rgba(0, 0, 0, 0.3));\n",
              "    fill: #FFFFFF;\n",
              "  }\n",
              "</style>\n",
              "\n",
              "    <script>\n",
              "      async function quickchart(key) {\n",
              "        const containerElement = document.querySelector('#' + key);\n",
              "        const charts = await google.colab.kernel.invokeFunction(\n",
              "            'suggestCharts', [key], {});\n",
              "      }\n",
              "    </script>\n",
              "\n",
              "      <script>\n",
              "\n",
              "function displayQuickchartButton(domScope) {\n",
              "  let quickchartButtonEl =\n",
              "    domScope.querySelector('#df-05204f5f-8d71-4c23-9cde-31f14901b125 button.colab-df-quickchart');\n",
              "  quickchartButtonEl.style.display =\n",
              "    google.colab.kernel.accessAllowed ? 'block' : 'none';\n",
              "}\n",
              "\n",
              "        displayQuickchartButton(document);\n",
              "      </script>\n",
              "      <style>\n",
              "    .colab-df-container {\n",
              "      display:flex;\n",
              "      flex-wrap:wrap;\n",
              "      gap: 12px;\n",
              "    }\n",
              "\n",
              "    .colab-df-convert {\n",
              "      background-color: #E8F0FE;\n",
              "      border: none;\n",
              "      border-radius: 50%;\n",
              "      cursor: pointer;\n",
              "      display: none;\n",
              "      fill: #1967D2;\n",
              "      height: 32px;\n",
              "      padding: 0 0 0 0;\n",
              "      width: 32px;\n",
              "    }\n",
              "\n",
              "    .colab-df-convert:hover {\n",
              "      background-color: #E2EBFA;\n",
              "      box-shadow: 0px 1px 2px rgba(60, 64, 67, 0.3), 0px 1px 3px 1px rgba(60, 64, 67, 0.15);\n",
              "      fill: #174EA6;\n",
              "    }\n",
              "\n",
              "    [theme=dark] .colab-df-convert {\n",
              "      background-color: #3B4455;\n",
              "      fill: #D2E3FC;\n",
              "    }\n",
              "\n",
              "    [theme=dark] .colab-df-convert:hover {\n",
              "      background-color: #434B5C;\n",
              "      box-shadow: 0px 1px 3px 1px rgba(0, 0, 0, 0.15);\n",
              "      filter: drop-shadow(0px 1px 2px rgba(0, 0, 0, 0.3));\n",
              "      fill: #FFFFFF;\n",
              "    }\n",
              "  </style>\n",
              "\n",
              "      <script>\n",
              "        const buttonEl =\n",
              "          document.querySelector('#df-440e2c84-e038-42b8-8b5a-cc0aef946752 button.colab-df-convert');\n",
              "        buttonEl.style.display =\n",
              "          google.colab.kernel.accessAllowed ? 'block' : 'none';\n",
              "\n",
              "        async function convertToInteractive(key) {\n",
              "          const element = document.querySelector('#df-440e2c84-e038-42b8-8b5a-cc0aef946752');\n",
              "          const dataTable =\n",
              "            await google.colab.kernel.invokeFunction('convertToInteractive',\n",
              "                                                     [key], {});\n",
              "          if (!dataTable) return;\n",
              "\n",
              "          const docLinkHtml = 'Like what you see? Visit the ' +\n",
              "            '<a target=\"_blank\" href=https://colab.research.google.com/notebooks/data_table.ipynb>data table notebook</a>'\n",
              "            + ' to learn more about interactive tables.';\n",
              "          element.innerHTML = '';\n",
              "          dataTable['output_type'] = 'display_data';\n",
              "          await google.colab.output.renderOutput(dataTable, element);\n",
              "          const docLink = document.createElement('div');\n",
              "          docLink.innerHTML = docLinkHtml;\n",
              "          element.appendChild(docLink);\n",
              "        }\n",
              "      </script>\n",
              "    </div>\n",
              "  </div>\n"
            ]
          },
          "metadata": {},
          "execution_count": 23
        }
      ]
    },
    {
      "cell_type": "markdown",
      "source": [
        "Use the Open Stock Price Column to Train your Model"
      ],
      "metadata": {
        "id": "-Loe_JuMwiYN"
      }
    },
    {
      "cell_type": "code",
      "source": [
        "training_set=dataset_train.iloc[:,1:2].values\n",
        "print(training_set)\n",
        "print(training_set.shape)"
      ],
      "metadata": {
        "colab": {
          "base_uri": "https://localhost:8080/"
        },
        "id": "jwGkcss-ubdj",
        "outputId": "b7818195-56c3-4218-8b0d-3b9b5e51b730"
      },
      "execution_count": null,
      "outputs": [
        {
          "output_type": "stream",
          "name": "stdout",
          "text": [
            "[[ 89.589996]\n",
            " [ 90.349998]\n",
            " [ 87.470001]\n",
            " [ 86.790001]\n",
            " [ 88.360001]\n",
            " [ 85.980003]\n",
            " [ 89.18    ]\n",
            " [ 91.480003]\n",
            " [ 90.849998]\n",
            " [ 92.059998]\n",
            " [ 92.139999]\n",
            " [ 90.720001]\n",
            " [ 95.099998]\n",
            " [ 97.949997]\n",
            " [ 98.099998]\n",
            " [ 95.57    ]\n",
            " [ 96.5     ]\n",
            " [ 97.309998]\n",
            " [ 97.480003]\n",
            " [ 96.870003]\n",
            " [ 98.709999]\n",
            " [105.800003]\n",
            " [102.93    ]\n",
            " [102.400002]\n",
            " [103.220001]\n",
            " [102.050003]\n",
            " [100.      ]\n",
            " [ 95.449997]\n",
            " [ 94.739998]\n",
            " [ 94.43    ]\n",
            " [ 94.489998]\n",
            " [ 95.370003]\n",
            " [ 94.849998]\n",
            " [ 93.      ]\n",
            " [ 91.699997]\n",
            " [ 91.919998]\n",
            " [ 89.440002]\n",
            " [ 89.870003]\n",
            " [ 89.330002]\n",
            " [ 89.980003]\n",
            " [ 89.660004]\n",
            " [ 92.480003]\n",
            " [ 94.019997]\n",
            " [ 94.980003]\n",
            " [ 94.120003]\n",
            " [ 94.050003]\n",
            " [ 92.169998]\n",
            " [ 90.089996]\n",
            " [ 92.559998]\n",
            " [ 93.220001]\n",
            " [ 96.199997]\n",
            " [100.260002]\n",
            " [100.120003]\n",
            " [101.25    ]\n",
            " [104.269997]\n",
            " [105.059998]\n",
            " [104.989998]\n",
            " [104.620003]\n",
            " [102.440002]\n",
            " [102.279999]\n",
            " [100.910004]\n",
            " [101.300003]\n",
            " [102.389999]\n",
            " [104.330002]\n",
            " [105.779999]\n",
            " [105.260002]\n",
            " [106.980003]\n",
            " [106.550003]\n",
            " [106.580002]\n",
            " [105.839996]\n",
            " [106.889999]\n",
            " [104.660004]\n",
            " [106.489998]\n",
            " [103.580002]\n",
            " [103.910004]\n",
            " [105.470001]\n",
            " [105.489998]\n",
            " [105.830002]\n",
            " [104.919998]\n",
            " [104.449997]\n",
            " [107.040001]\n",
            " [106.839996]\n",
            " [107.139999]\n",
            " [105.529999]\n",
            " [105.489998]\n",
            " [104.82    ]\n",
            " [105.18    ]\n",
            " [108.389999]\n",
            " [107.970001]\n",
            " [115.400002]\n",
            " [116.68    ]\n",
            " [116.110001]\n",
            " [116.489998]\n",
            " [119.610001]\n",
            " [120.949997]\n",
            " [123.550003]\n",
            " [122.940002]\n",
            " [124.160004]\n",
            " [121.120003]\n",
            " [124.519997]\n",
            " [123.169998]\n",
            " [125.639999]\n",
            " [122.75    ]\n",
            " [122.82    ]\n",
            " [123.989998]\n",
            " [124.010002]\n",
            " [126.010002]\n",
            " [126.970001]\n",
            " [122.230003]\n",
            " [122.25    ]\n",
            " [122.790001]\n",
            " [124.980003]\n",
            " [123.099998]\n",
            " [123.139999]\n",
            " [125.93    ]\n",
            " [122.93    ]\n",
            " [122.400002]\n",
            " [120.      ]\n",
            " [121.379997]\n",
            " [120.760002]\n",
            " [117.080002]\n",
            " [117.089996]\n",
            " [119.239998]\n",
            " [120.169998]\n",
            " [119.239998]\n",
            " [119.239998]\n",
            " [119.800003]\n",
            " [120.099998]\n",
            " [118.300003]\n",
            " [116.290001]\n",
            " [118.800003]\n",
            " [120.93    ]\n",
            " [124.800003]\n",
            " [125.940002]\n",
            " [124.599998]\n",
            " [124.599998]\n",
            " [121.419998]\n",
            " [120.620003]\n",
            " [121.660004]\n",
            " [121.360001]\n",
            " [130.070007]\n",
            " [131.669998]\n",
            " [130.779999]]\n",
            "(143, 1)\n"
          ]
        }
      ]
    },
    {
      "cell_type": "markdown",
      "source": [
        "Normalizing the Dataset"
      ],
      "metadata": {
        "id": "ENBAhiG0wrGD"
      }
    },
    {
      "cell_type": "code",
      "source": [
        "from sklearn.preprocessing import MinMaxScaler\n",
        "scaler=MinMaxScaler(feature_range=(0,1))\n",
        "scaled_training_set=scaler.fit_transform(training_set)\n",
        "scaled_training_set"
      ],
      "metadata": {
        "colab": {
          "base_uri": "https://localhost:8080/"
        },
        "id": "TTpWz2gsuxsT",
        "outputId": "557eab70-36c1-4a8c-f766-43d32094a07b"
      },
      "execution_count": null,
      "outputs": [
        {
          "output_type": "execute_result",
          "data": {
            "text/plain": [
              "array([[0.07901058],\n",
              "       [0.09564446],\n",
              "       [0.03261103],\n",
              "       [0.01772813],\n",
              "       [0.05209013],\n",
              "       [0.        ],\n",
              "       [0.07003715],\n",
              "       [0.12037646],\n",
              "       [0.10658778],\n",
              "       [0.1330706 ],\n",
              "       [0.13482155],\n",
              "       [0.10374258],\n",
              "       [0.19960595],\n",
              "       [0.26198283],\n",
              "       [0.26526584],\n",
              "       [0.20989271],\n",
              "       [0.23024728],\n",
              "       [0.2479754 ],\n",
              "       [0.25169624],\n",
              "       [0.2383454 ],\n",
              "       [0.27861671],\n",
              "       [0.433793  ],\n",
              "       [0.37097831],\n",
              "       [0.35937844],\n",
              "       [0.37732545],\n",
              "       [0.35171814],\n",
              "       [0.30685048],\n",
              "       [0.20726625],\n",
              "       [0.19172677],\n",
              "       [0.18494196],\n",
              "       [0.18625511],\n",
              "       [0.20551545],\n",
              "       [0.1941343 ],\n",
              "       [0.15364407],\n",
              "       [0.12519139],\n",
              "       [0.13000647],\n",
              "       [0.07572772],\n",
              "       [0.08513899],\n",
              "       [0.07332019],\n",
              "       [0.08754652],\n",
              "       [0.08054282],\n",
              "       [0.14226309],\n",
              "       [0.17596837],\n",
              "       [0.19697967],\n",
              "       [0.17815717],\n",
              "       [0.1766251 ],\n",
              "       [0.13547813],\n",
              "       [0.08995389],\n",
              "       [0.14401391],\n",
              "       [0.15845916],\n",
              "       [0.22368122],\n",
              "       [0.31254105],\n",
              "       [0.30947694],\n",
              "       [0.33420877],\n",
              "       [0.40030633],\n",
              "       [0.41759678],\n",
              "       [0.41606472],\n",
              "       [0.40796678],\n",
              "       [0.3602539 ],\n",
              "       [0.35675198],\n",
              "       [0.3267674 ],\n",
              "       [0.33530317],\n",
              "       [0.35915951],\n",
              "       [0.40161963],\n",
              "       [0.43335518],\n",
              "       [0.4219742 ],\n",
              "       [0.45961922],\n",
              "       [0.45020797],\n",
              "       [0.45086455],\n",
              "       [0.43466831],\n",
              "       [0.45764934],\n",
              "       [0.40884226],\n",
              "       [0.44889467],\n",
              "       [0.38520466],\n",
              "       [0.39242729],\n",
              "       [0.42657037],\n",
              "       [0.42700804],\n",
              "       [0.43444958],\n",
              "       [0.41453266],\n",
              "       [0.40424592],\n",
              "       [0.46093238],\n",
              "       [0.45655494],\n",
              "       [0.463121  ],\n",
              "       [0.42788352],\n",
              "       [0.42700804],\n",
              "       [0.41234404],\n",
              "       [0.42022322],\n",
              "       [0.49047928],\n",
              "       [0.48128694],\n",
              "       [0.64390462],\n",
              "       [0.67191947],\n",
              "       [0.65944411],\n",
              "       [0.66776096],\n",
              "       [0.73604731],\n",
              "       [0.76537531],\n",
              "       [0.82228068],\n",
              "       [0.80892981],\n",
              "       [0.83563154],\n",
              "       [0.76909617],\n",
              "       [0.84351058],\n",
              "       [0.81396365],\n",
              "       [0.86802365],\n",
              "       [0.80477131],\n",
              "       [0.80630337],\n",
              "       [0.83191068],\n",
              "       [0.8323485 ],\n",
              "       [0.87612176],\n",
              "       [0.89713291],\n",
              "       [0.79339033],\n",
              "       [0.79382799],\n",
              "       [0.80564679],\n",
              "       [0.85357856],\n",
              "       [0.81243158],\n",
              "       [0.81330707],\n",
              "       [0.87437079],\n",
              "       [0.8087109 ],\n",
              "       [0.79711103],\n",
              "       [0.74458308],\n",
              "       [0.77478656],\n",
              "       [0.76121696],\n",
              "       [0.68067416],\n",
              "       [0.6808929 ],\n",
              "       [0.72794919],\n",
              "       [0.74830376],\n",
              "       [0.72794919],\n",
              "       [0.72794919],\n",
              "       [0.74020582],\n",
              "       [0.74677169],\n",
              "       [0.70737587],\n",
              "       [0.6633837 ],\n",
              "       [0.71831919],\n",
              "       [0.76493764],\n",
              "       [0.84963896],\n",
              "       [0.8745897 ],\n",
              "       [0.84526153],\n",
              "       [0.84526153],\n",
              "       [0.77566205],\n",
              "       [0.75815285],\n",
              "       [0.78091497],\n",
              "       [0.77434891],\n",
              "       [0.96498159],\n",
              "       [1.        ],\n",
              "       [0.98052092]])"
            ]
          },
          "metadata": {},
          "execution_count": 25
        }
      ]
    },
    {
      "cell_type": "markdown",
      "source": [
        "Creating X_train and y_train Data structures"
      ],
      "metadata": {
        "id": "HCEaOVlbwu44"
      }
    },
    {
      "cell_type": "code",
      "source": [
        "X_train=[]\n",
        "y_train=[]\n",
        "for i in range(60,143):\n",
        "  X_train.append(scaled_training_set[i-60:i,0])\n",
        "  y_train.append(scaled_training_set[i,0])\n",
        "X_train=np.array(X_train)\n",
        "y_train=np.array(y_train)\n",
        "print(X_train.shape)\n",
        "print(y_train.shape)"
      ],
      "metadata": {
        "colab": {
          "base_uri": "https://localhost:8080/"
        },
        "id": "wyaLpEBivk6t",
        "outputId": "8982c21a-5ad0-444e-c7c8-2228b7122e2d"
      },
      "execution_count": null,
      "outputs": [
        {
          "output_type": "stream",
          "name": "stdout",
          "text": [
            "(83, 60)\n",
            "(83,)\n"
          ]
        }
      ]
    },
    {
      "cell_type": "markdown",
      "source": [
        "Reshape the data"
      ],
      "metadata": {
        "id": "wDZLJ5iXw2I0"
      }
    },
    {
      "cell_type": "code",
      "source": [
        "X_train=np.reshape(X_train,(X_train.shape[0], X_train.shape[1],1))\n",
        "X_train.shape"
      ],
      "metadata": {
        "colab": {
          "base_uri": "https://localhost:8080/"
        },
        "id": "fF0LGjOXw5ia",
        "outputId": "6fc3d6b6-8ba4-4a6d-ce8f-a5111feda52b"
      },
      "execution_count": null,
      "outputs": [
        {
          "output_type": "execute_result",
          "data": {
            "text/plain": [
              "(83, 60, 1)"
            ]
          },
          "metadata": {},
          "execution_count": 29
        }
      ]
    },
    {
      "cell_type": "markdown",
      "source": [
        " Building the Model by Importing the Crucial Libraries and Adding Different Layers to LSTM.\n"
      ],
      "metadata": {
        "id": "gy_8z2wdxSJI"
      }
    },
    {
      "cell_type": "code",
      "source": [
        "from keras.models import Sequential\n",
        "from keras.layers import LSTM\n",
        "from keras.layers import Dense\n",
        "from keras.layers import Dropout"
      ],
      "metadata": {
        "id": "2S9w0IsFxOKd"
      },
      "execution_count": null,
      "outputs": []
    },
    {
      "cell_type": "code",
      "source": [
        "regressor= Sequential()\n",
        "regressor.add(LSTM(units=50, return_sequences= True, input_shape=(X_train.shape[1],1)))\n",
        "regressor.add(Dropout(0.2))\n",
        "\n",
        "regressor.add(LSTM(units=50, return_sequences= True))\n",
        "regressor.add(Dropout(0.2))\n",
        "\n",
        "regressor.add(LSTM(units=50, return_sequences= True))\n",
        "regressor.add(Dropout(0.2))\n",
        "\n",
        "regressor.add(LSTM(units=50))\n",
        "regressor.add(Dropout(0.2))\n",
        "\n",
        "regressor.add(Dense(units=1))"
      ],
      "metadata": {
        "id": "wA4CM1j6xtgV"
      },
      "execution_count": null,
      "outputs": []
    },
    {
      "cell_type": "markdown",
      "source": [
        "Fitting the model"
      ],
      "metadata": {
        "id": "cRQfhMQ2xsGo"
      }
    },
    {
      "cell_type": "code",
      "source": [
        "regressor.compile(optimizer='adam',loss='mean_squared_error')\n",
        "regressor.fit(X_train,y_train,epochs=100, batch_size=32)"
      ],
      "metadata": {
        "colab": {
          "base_uri": "https://localhost:8080/"
        },
        "id": "VbCU9X7fykO-",
        "outputId": "d50b8144-3e63-4a82-c946-77df22ae1178"
      },
      "execution_count": null,
      "outputs": [
        {
          "output_type": "stream",
          "name": "stdout",
          "text": [
            "Epoch 1/100\n",
            "3/3 [==============================] - 7s 21ms/step - loss: 0.4408\n",
            "Epoch 2/100\n",
            "3/3 [==============================] - 0s 20ms/step - loss: 0.1779\n",
            "Epoch 3/100\n",
            "3/3 [==============================] - 0s 21ms/step - loss: 0.0612\n",
            "Epoch 4/100\n",
            "3/3 [==============================] - 0s 16ms/step - loss: 0.0398\n",
            "Epoch 5/100\n",
            "3/3 [==============================] - 0s 19ms/step - loss: 0.0417\n",
            "Epoch 6/100\n",
            "3/3 [==============================] - 0s 16ms/step - loss: 0.0572\n",
            "Epoch 7/100\n",
            "3/3 [==============================] - 0s 19ms/step - loss: 0.0291\n",
            "Epoch 8/100\n",
            "3/3 [==============================] - 0s 14ms/step - loss: 0.0265\n",
            "Epoch 9/100\n",
            "3/3 [==============================] - 0s 15ms/step - loss: 0.0264\n",
            "Epoch 10/100\n",
            "3/3 [==============================] - 0s 14ms/step - loss: 0.0190\n",
            "Epoch 11/100\n",
            "3/3 [==============================] - 0s 14ms/step - loss: 0.0198\n",
            "Epoch 12/100\n",
            "3/3 [==============================] - 0s 13ms/step - loss: 0.0214\n",
            "Epoch 13/100\n",
            "3/3 [==============================] - 0s 14ms/step - loss: 0.0176\n",
            "Epoch 14/100\n",
            "3/3 [==============================] - 0s 14ms/step - loss: 0.0185\n",
            "Epoch 15/100\n",
            "3/3 [==============================] - 0s 14ms/step - loss: 0.0194\n",
            "Epoch 16/100\n",
            "3/3 [==============================] - 0s 14ms/step - loss: 0.0217\n",
            "Epoch 17/100\n",
            "3/3 [==============================] - 0s 15ms/step - loss: 0.0175\n",
            "Epoch 18/100\n",
            "3/3 [==============================] - 0s 14ms/step - loss: 0.0196\n",
            "Epoch 19/100\n",
            "3/3 [==============================] - 0s 14ms/step - loss: 0.0176\n",
            "Epoch 20/100\n",
            "3/3 [==============================] - 0s 14ms/step - loss: 0.0243\n",
            "Epoch 21/100\n",
            "3/3 [==============================] - 0s 14ms/step - loss: 0.0180\n",
            "Epoch 22/100\n",
            "3/3 [==============================] - 0s 13ms/step - loss: 0.0178\n",
            "Epoch 23/100\n",
            "3/3 [==============================] - 0s 17ms/step - loss: 0.0160\n",
            "Epoch 24/100\n",
            "3/3 [==============================] - 0s 18ms/step - loss: 0.0177\n",
            "Epoch 25/100\n",
            "3/3 [==============================] - 0s 14ms/step - loss: 0.0175\n",
            "Epoch 26/100\n",
            "3/3 [==============================] - 0s 14ms/step - loss: 0.0184\n",
            "Epoch 27/100\n",
            "3/3 [==============================] - 0s 13ms/step - loss: 0.0156\n",
            "Epoch 28/100\n",
            "3/3 [==============================] - 0s 18ms/step - loss: 0.0188\n",
            "Epoch 29/100\n",
            "3/3 [==============================] - 0s 14ms/step - loss: 0.0168\n",
            "Epoch 30/100\n",
            "3/3 [==============================] - 0s 14ms/step - loss: 0.0147\n",
            "Epoch 31/100\n",
            "3/3 [==============================] - 0s 14ms/step - loss: 0.0190\n",
            "Epoch 32/100\n",
            "3/3 [==============================] - 0s 14ms/step - loss: 0.0172\n",
            "Epoch 33/100\n",
            "3/3 [==============================] - 0s 14ms/step - loss: 0.0154\n",
            "Epoch 34/100\n",
            "3/3 [==============================] - 0s 15ms/step - loss: 0.0163\n",
            "Epoch 35/100\n",
            "3/3 [==============================] - 0s 14ms/step - loss: 0.0160\n",
            "Epoch 36/100\n",
            "3/3 [==============================] - 0s 14ms/step - loss: 0.0153\n",
            "Epoch 37/100\n",
            "3/3 [==============================] - 0s 15ms/step - loss: 0.0135\n",
            "Epoch 38/100\n",
            "3/3 [==============================] - 0s 13ms/step - loss: 0.0158\n",
            "Epoch 39/100\n",
            "3/3 [==============================] - 0s 13ms/step - loss: 0.0142\n",
            "Epoch 40/100\n",
            "3/3 [==============================] - 0s 14ms/step - loss: 0.0127\n",
            "Epoch 41/100\n",
            "3/3 [==============================] - 0s 14ms/step - loss: 0.0121\n",
            "Epoch 42/100\n",
            "3/3 [==============================] - 0s 13ms/step - loss: 0.0187\n",
            "Epoch 43/100\n",
            "3/3 [==============================] - 0s 14ms/step - loss: 0.0142\n",
            "Epoch 44/100\n",
            "3/3 [==============================] - 0s 14ms/step - loss: 0.0131\n",
            "Epoch 45/100\n",
            "3/3 [==============================] - 0s 17ms/step - loss: 0.0159\n",
            "Epoch 46/100\n",
            "3/3 [==============================] - 0s 14ms/step - loss: 0.0187\n",
            "Epoch 47/100\n",
            "3/3 [==============================] - 0s 13ms/step - loss: 0.0138\n",
            "Epoch 48/100\n",
            "3/3 [==============================] - 0s 14ms/step - loss: 0.0148\n",
            "Epoch 49/100\n",
            "3/3 [==============================] - 0s 14ms/step - loss: 0.0162\n",
            "Epoch 50/100\n",
            "3/3 [==============================] - 0s 14ms/step - loss: 0.0136\n",
            "Epoch 51/100\n",
            "3/3 [==============================] - 0s 13ms/step - loss: 0.0152\n",
            "Epoch 52/100\n",
            "3/3 [==============================] - 0s 13ms/step - loss: 0.0126\n",
            "Epoch 53/100\n",
            "3/3 [==============================] - 0s 14ms/step - loss: 0.0143\n",
            "Epoch 54/100\n",
            "3/3 [==============================] - 0s 14ms/step - loss: 0.0141\n",
            "Epoch 55/100\n",
            "3/3 [==============================] - 0s 14ms/step - loss: 0.0139\n",
            "Epoch 56/100\n",
            "3/3 [==============================] - 0s 14ms/step - loss: 0.0125\n",
            "Epoch 57/100\n",
            "3/3 [==============================] - 0s 14ms/step - loss: 0.0172\n",
            "Epoch 58/100\n",
            "3/3 [==============================] - 0s 14ms/step - loss: 0.0130\n",
            "Epoch 59/100\n",
            "3/3 [==============================] - 0s 14ms/step - loss: 0.0169\n",
            "Epoch 60/100\n",
            "3/3 [==============================] - 0s 15ms/step - loss: 0.0154\n",
            "Epoch 61/100\n",
            "3/3 [==============================] - 0s 14ms/step - loss: 0.0125\n",
            "Epoch 62/100\n",
            "3/3 [==============================] - 0s 14ms/step - loss: 0.0171\n",
            "Epoch 63/100\n",
            "3/3 [==============================] - 0s 13ms/step - loss: 0.0134\n",
            "Epoch 64/100\n",
            "3/3 [==============================] - 0s 14ms/step - loss: 0.0147\n",
            "Epoch 65/100\n",
            "3/3 [==============================] - 0s 14ms/step - loss: 0.0154\n",
            "Epoch 66/100\n",
            "3/3 [==============================] - 0s 14ms/step - loss: 0.0124\n",
            "Epoch 67/100\n",
            "3/3 [==============================] - 0s 17ms/step - loss: 0.0138\n",
            "Epoch 68/100\n",
            "3/3 [==============================] - 0s 14ms/step - loss: 0.0143\n",
            "Epoch 69/100\n",
            "3/3 [==============================] - 0s 14ms/step - loss: 0.0144\n",
            "Epoch 70/100\n",
            "3/3 [==============================] - 0s 14ms/step - loss: 0.0112\n",
            "Epoch 71/100\n",
            "3/3 [==============================] - 0s 14ms/step - loss: 0.0105\n",
            "Epoch 72/100\n",
            "3/3 [==============================] - 0s 14ms/step - loss: 0.0107\n",
            "Epoch 73/100\n",
            "3/3 [==============================] - 0s 14ms/step - loss: 0.0133\n",
            "Epoch 74/100\n",
            "3/3 [==============================] - 0s 14ms/step - loss: 0.0101\n",
            "Epoch 75/100\n",
            "3/3 [==============================] - 0s 14ms/step - loss: 0.0118\n",
            "Epoch 76/100\n",
            "3/3 [==============================] - 0s 14ms/step - loss: 0.0134\n",
            "Epoch 77/100\n",
            "3/3 [==============================] - 0s 13ms/step - loss: 0.0129\n",
            "Epoch 78/100\n",
            "3/3 [==============================] - 0s 14ms/step - loss: 0.0139\n",
            "Epoch 79/100\n",
            "3/3 [==============================] - 0s 14ms/step - loss: 0.0111\n",
            "Epoch 80/100\n",
            "3/3 [==============================] - 0s 18ms/step - loss: 0.0130\n",
            "Epoch 81/100\n",
            "3/3 [==============================] - 0s 15ms/step - loss: 0.0094\n",
            "Epoch 82/100\n",
            "3/3 [==============================] - 0s 14ms/step - loss: 0.0101\n",
            "Epoch 83/100\n",
            "3/3 [==============================] - 0s 15ms/step - loss: 0.0094\n",
            "Epoch 84/100\n",
            "3/3 [==============================] - 0s 14ms/step - loss: 0.0097\n",
            "Epoch 85/100\n",
            "3/3 [==============================] - 0s 13ms/step - loss: 0.0126\n",
            "Epoch 86/100\n",
            "3/3 [==============================] - 0s 13ms/step - loss: 0.0154\n",
            "Epoch 87/100\n",
            "3/3 [==============================] - 0s 14ms/step - loss: 0.0122\n",
            "Epoch 88/100\n",
            "3/3 [==============================] - 0s 16ms/step - loss: 0.0113\n",
            "Epoch 89/100\n",
            "3/3 [==============================] - 0s 14ms/step - loss: 0.0086\n",
            "Epoch 90/100\n",
            "3/3 [==============================] - 0s 14ms/step - loss: 0.0091\n",
            "Epoch 91/100\n",
            "3/3 [==============================] - 0s 14ms/step - loss: 0.0075\n",
            "Epoch 92/100\n",
            "3/3 [==============================] - 0s 14ms/step - loss: 0.0115\n",
            "Epoch 93/100\n",
            "3/3 [==============================] - 0s 14ms/step - loss: 0.0080\n",
            "Epoch 94/100\n",
            "3/3 [==============================] - 0s 15ms/step - loss: 0.0079\n",
            "Epoch 95/100\n",
            "3/3 [==============================] - 0s 15ms/step - loss: 0.0093\n",
            "Epoch 96/100\n",
            "3/3 [==============================] - 0s 16ms/step - loss: 0.0064\n",
            "Epoch 97/100\n",
            "3/3 [==============================] - 0s 14ms/step - loss: 0.0105\n",
            "Epoch 98/100\n",
            "3/3 [==============================] - 0s 14ms/step - loss: 0.0060\n",
            "Epoch 99/100\n",
            "3/3 [==============================] - 0s 14ms/step - loss: 0.0092\n",
            "Epoch 100/100\n",
            "3/3 [==============================] - 0s 17ms/step - loss: 0.0082\n"
          ]
        },
        {
          "output_type": "execute_result",
          "data": {
            "text/plain": [
              "<keras.callbacks.History at 0x7a1a9e632b30>"
            ]
          },
          "metadata": {},
          "execution_count": 32
        }
      ]
    },
    {
      "cell_type": "markdown",
      "source": [
        "Extracting the Actual Stock Prices"
      ],
      "metadata": {
        "id": "A5vydiLQzTDr"
      }
    },
    {
      "cell_type": "code",
      "source": [
        "dataset_test=pd.read_csv(\"/content/Google_Stock_Test (2023).csv\")\n",
        "actual_stock_price=dataset_test.iloc[:,1:2].values"
      ],
      "metadata": {
        "id": "bGRiv38SzdGn"
      },
      "execution_count": null,
      "outputs": []
    },
    {
      "cell_type": "markdown",
      "source": [
        "Preparing the Input for the Model."
      ],
      "metadata": {
        "id": "47sBK4HRz16j"
      }
    },
    {
      "cell_type": "code",
      "source": [
        "dataset_total=pd.concat((dataset_train['Open'],dataset_test['Open']),axis=0)\n",
        "inputs=dataset_total[len(dataset_total)- len(dataset_test)-60:].values\n",
        "\n",
        "inputs=inputs.reshape(-1,1)\n",
        "inputs=scaler.transform(inputs)\n",
        "\n",
        "X_test=[]\n",
        "for i in range(60,200):\n",
        "  X_test.append(inputs[i-60:i,0])\n",
        "X_test=np.array(X_test)\n",
        "X_test=np.reshape(X_test,(X_test.shape[0], X_test.shape[1], 1))"
      ],
      "metadata": {
        "id": "fdicPjlAz1Ng"
      },
      "execution_count": null,
      "outputs": []
    },
    {
      "cell_type": "markdown",
      "source": [
        " Predicting the Values"
      ],
      "metadata": {
        "id": "977_zce61IXH"
      }
    },
    {
      "cell_type": "code",
      "source": [
        "predicted_stock_price=regressor.predict(X_test)\n",
        "predicted_stock_price=scaler.inverse_transform(predicted_stock_price)"
      ],
      "metadata": {
        "colab": {
          "base_uri": "https://localhost:8080/"
        },
        "id": "Sk8YJ5oz1NrM",
        "outputId": "28142c2c-327b-4ec8-9f65-1b33a466f114"
      },
      "execution_count": null,
      "outputs": [
        {
          "output_type": "stream",
          "name": "stdout",
          "text": [
            "5/5 [==============================] - 0s 8ms/step\n"
          ]
        }
      ]
    },
    {
      "cell_type": "markdown",
      "source": [
        "Plotting the Actual and Predicted Prices for Google Stocks"
      ],
      "metadata": {
        "id": "ozdFqi4Y1k-P"
      }
    },
    {
      "cell_type": "code",
      "source": [
        "plt.plot(actual_stock_price, color='red',label='Actual Google stock price')\n",
        "plt.plot(predicted_stock_price, color='blue', label='Predicted Google stock price')\n",
        "plt.title('Google Stock Predict Prediction')\n",
        "plt.xlabel('Time')\n",
        "plt.ylabel('Google Stock Price')\n",
        "plt.legend()"
      ],
      "metadata": {
        "colab": {
          "base_uri": "https://localhost:8080/",
          "height": 489
        },
        "id": "E6uUhBz21lqf",
        "outputId": "1ef163c2-8fc5-4117-e88e-c14e5ebdda78"
      },
      "execution_count": null,
      "outputs": [
        {
          "output_type": "execute_result",
          "data": {
            "text/plain": [
              "<matplotlib.legend.Legend at 0x7a1a99cd6230>"
            ]
          },
          "metadata": {},
          "execution_count": 39
        },
        {
          "output_type": "display_data",
          "data": {
            "text/plain": [
              "<Figure size 640x480 with 1 Axes>"
            ],
            "image/png": "[encoded data removed]"
          },
          "metadata": {}
        }
      ]
    }
  ]
}